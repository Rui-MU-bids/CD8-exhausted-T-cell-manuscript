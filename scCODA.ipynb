{
 "cells": [
  {
   "cell_type": "code",
   "execution_count": 1,
   "id": "f0f2418b",
   "metadata": {},
   "outputs": [],
   "source": [
    "import scanpy as sc\n",
    "import pandas as pd\n",
    "import scanpy.external as sce\n",
    "import anndata as ad\n"
   ]
  },
  {
   "cell_type": "code",
   "execution_count": 2,
   "id": "c88641cf",
   "metadata": {},
   "outputs": [
    {
     "name": "stderr",
     "output_type": "stream",
     "text": [
      "2025-05-25 22:55:34.830178: I tensorflow/core/util/port.cc:153] oneDNN custom operations are on. You may see slightly different numerical results due to floating-point round-off errors from different computation orders. To turn them off, set the environment variable `TF_ENABLE_ONEDNN_OPTS=0`.\n",
      "2025-05-25 22:55:34.831615: I external/local_xla/xla/tsl/cuda/cudart_stub.cc:32] Could not find cuda drivers on your machine, GPU will not be used.\n",
      "2025-05-25 22:55:34.836028: I external/local_xla/xla/tsl/cuda/cudart_stub.cc:32] Could not find cuda drivers on your machine, GPU will not be used.\n",
      "2025-05-25 22:55:34.848918: E external/local_xla/xla/stream_executor/cuda/cuda_fft.cc:467] Unable to register cuFFT factory: Attempting to register factory for plugin cuFFT when one has already been registered\n",
      "WARNING: All log messages before absl::InitializeLog() is called are written to STDERR\n",
      "E0000 00:00:1748231734.864808 1661034 cuda_dnn.cc:8579] Unable to register cuDNN factory: Attempting to register factory for plugin cuDNN when one has already been registered\n",
      "E0000 00:00:1748231734.869334 1661034 cuda_blas.cc:1407] Unable to register cuBLAS factory: Attempting to register factory for plugin cuBLAS when one has already been registered\n",
      "W0000 00:00:1748231734.881422 1661034 computation_placer.cc:177] computation placer already registered. Please check linkage and avoid linking the same target more than once.\n",
      "W0000 00:00:1748231734.881435 1661034 computation_placer.cc:177] computation placer already registered. Please check linkage and avoid linking the same target more than once.\n",
      "W0000 00:00:1748231734.881436 1661034 computation_placer.cc:177] computation placer already registered. Please check linkage and avoid linking the same target more than once.\n",
      "W0000 00:00:1748231734.881437 1661034 computation_placer.cc:177] computation placer already registered. Please check linkage and avoid linking the same target more than once.\n",
      "2025-05-25 22:55:34.885488: I tensorflow/core/platform/cpu_feature_guard.cc:210] This TensorFlow binary is optimized to use available CPU instructions in performance-critical operations.\n",
      "To enable the following instructions: AVX2 AVX512F AVX512_VNNI FMA, in other operations, rebuild TensorFlow with the appropriate compiler flags.\n"
     ]
    }
   ],
   "source": [
    "import sccoda\n",
    "import importlib\n",
    "import warnings\n",
    "warnings.filterwarnings(\"ignore\")\n",
    "\n",
    "import pandas as pd\n",
    "import pickle as pkl\n",
    "import matplotlib.pyplot as plt\n",
    "\n",
    "from sccoda.util import comp_ana as mod\n",
    "from sccoda.util import cell_composition_data as dat\n",
    "from sccoda.util import data_visualization as viz\n",
    "\n",
    "import sccoda.datasets as scd"
   ]
  },
  {
   "cell_type": "code",
   "execution_count": 160,
   "id": "dac1f87f",
   "metadata": {},
   "outputs": [],
   "source": [
    "cell_counts_CRC = pd.read_excel('cellcounts.xlsx', sheet_name='CRC')"
   ]
  },
  {
   "cell_type": "code",
   "execution_count": 161,
   "id": "71972874",
   "metadata": {},
   "outputs": [
    {
     "data": {
      "text/html": [
       "<div>\n",
       "<style scoped>\n",
       "    .dataframe tbody tr th:only-of-type {\n",
       "        vertical-align: middle;\n",
       "    }\n",
       "\n",
       "    .dataframe tbody tr th {\n",
       "        vertical-align: top;\n",
       "    }\n",
       "\n",
       "    .dataframe thead th {\n",
       "        text-align: right;\n",
       "    }\n",
       "</style>\n",
       "<table border=\"1\" class=\"dataframe\">\n",
       "  <thead>\n",
       "    <tr style=\"text-align: right;\">\n",
       "      <th></th>\n",
       "      <th>Sample</th>\n",
       "      <th>C1</th>\n",
       "      <th>C2</th>\n",
       "      <th>C3</th>\n",
       "      <th>C4</th>\n",
       "      <th>C5</th>\n",
       "    </tr>\n",
       "  </thead>\n",
       "  <tbody>\n",
       "    <tr>\n",
       "      <th>0</th>\n",
       "      <td>CTL</td>\n",
       "      <td>103</td>\n",
       "      <td>424</td>\n",
       "      <td>321</td>\n",
       "      <td>27</td>\n",
       "      <td>7</td>\n",
       "    </tr>\n",
       "    <tr>\n",
       "      <th>1</th>\n",
       "      <td>anti-PD1</td>\n",
       "      <td>239</td>\n",
       "      <td>432</td>\n",
       "      <td>377</td>\n",
       "      <td>27</td>\n",
       "      <td>1</td>\n",
       "    </tr>\n",
       "  </tbody>\n",
       "</table>\n",
       "</div>"
      ],
      "text/plain": [
       "     Sample   C1   C2   C3  C4  C5\n",
       "0       CTL  103  424  321  27   7\n",
       "1  anti-PD1  239  432  377  27   1"
      ]
     },
     "execution_count": 161,
     "metadata": {},
     "output_type": "execute_result"
    }
   ],
   "source": [
    "cell_counts_CRC "
   ]
  },
  {
   "cell_type": "code",
   "execution_count": 162,
   "id": "0aa24dd9",
   "metadata": {},
   "outputs": [
    {
     "data": {
      "text/plain": [
       "AnnData object with n_obs × n_vars = 2 × 5\n",
       "    obs: 'Sample'"
      ]
     },
     "execution_count": 162,
     "metadata": {},
     "output_type": "execute_result"
    }
   ],
   "source": [
    "data_CRC = dat.from_pandas(cell_counts_CRC, covariate_columns=[\"Sample\"])\n",
    "data_CRC"
   ]
  },
  {
   "cell_type": "code",
   "execution_count": 168,
   "id": "15c7c06b",
   "metadata": {},
   "outputs": [],
   "source": [
    "model_CRC = mod.CompositionalAnalysis(data_CRC, formula=\"Sample\", reference_cell_type='C5')"
   ]
  },
  {
   "cell_type": "code",
   "execution_count": 169,
   "id": "221d1e90",
   "metadata": {},
   "outputs": [
    {
     "name": "stderr",
     "output_type": "stream",
     "text": [
      "100%|██████████| 20000/20000 [00:39<00:00, 502.88it/s]\n"
     ]
    },
    {
     "name": "stdout",
     "output_type": "stream",
     "text": [
      "MCMC sampling finished. (54.592 sec)\n",
      "Acceptance rate: 50.4%\n"
     ]
    }
   ],
   "source": [
    "sim_results_CRC = model_CRC.sample_hmc()"
   ]
  },
  {
   "cell_type": "code",
   "execution_count": 170,
   "id": "eb385ae7",
   "metadata": {},
   "outputs": [
    {
     "name": "stdout",
     "output_type": "stream",
     "text": [
      "Compositional Analysis summary:\n",
      "\n",
      "Data: 2 samples, 5 cell types\n",
      "Reference index: 4\n",
      "Formula: Sample\n",
      "\n",
      "Intercepts:\n",
      "           Final Parameter  Expected Sample\n",
      "Cell Type                                  \n",
      "C1                   3.064       133.666147\n",
      "C2                   4.288       454.566970\n",
      "C3                   4.047       357.217647\n",
      "C4                   1.521        28.569658\n",
      "C5                  -0.226         4.979579\n",
      "\n",
      "\n",
      "Effects:\n",
      "                              Final Parameter  Expected Sample  \\\n",
      "Covariate          Cell Type                                     \n",
      "Sample[T.anti-PD1] C1                 0.52871       207.096225   \n",
      "                   C2                 0.00000       415.080928   \n",
      "                   C3                 0.00000       326.187871   \n",
      "                   C4                 0.00000        26.087950   \n",
      "                   C5                 0.00000         4.547027   \n",
      "\n",
      "                              log2-fold change  \n",
      "Covariate          Cell Type                    \n",
      "Sample[T.anti-PD1] C1                 0.631667  \n",
      "                   C2                -0.131100  \n",
      "                   C3                -0.131100  \n",
      "                   C4                -0.131100  \n",
      "                   C5                -0.131100  \n"
     ]
    }
   ],
   "source": [
    "sim_results_CRC.set_fdr(est_fdr=0.4)\n",
    "sim_results_CRC.summary()"
   ]
  },
  {
   "cell_type": "code",
   "execution_count": 171,
   "id": "1ed5f6f0",
   "metadata": {},
   "outputs": [
    {
     "name": "stdout",
     "output_type": "stream",
     "text": [
      "Covariate           Cell Type\n",
      "Sample[T.anti-PD1]  C1            True\n",
      "                    C2           False\n",
      "                    C3           False\n",
      "                    C4           False\n",
      "                    C5           False\n",
      "Name: Final Parameter, dtype: bool\n"
     ]
    }
   ],
   "source": [
    "print(sim_results_CRC.credible_effects())"
   ]
  },
  {
   "cell_type": "markdown",
   "id": "0ed44aac",
   "metadata": {},
   "source": [
    "## FMC"
   ]
  },
  {
   "cell_type": "code",
   "execution_count": 134,
   "id": "1a76d9e6",
   "metadata": {},
   "outputs": [
    {
     "data": {
      "text/html": [
       "<div>\n",
       "<style scoped>\n",
       "    .dataframe tbody tr th:only-of-type {\n",
       "        vertical-align: middle;\n",
       "    }\n",
       "\n",
       "    .dataframe tbody tr th {\n",
       "        vertical-align: top;\n",
       "    }\n",
       "\n",
       "    .dataframe thead th {\n",
       "        text-align: right;\n",
       "    }\n",
       "</style>\n",
       "<table border=\"1\" class=\"dataframe\">\n",
       "  <thead>\n",
       "    <tr style=\"text-align: right;\">\n",
       "      <th></th>\n",
       "      <th>Sample</th>\n",
       "      <th>C1</th>\n",
       "      <th>C2</th>\n",
       "      <th>C3</th>\n",
       "      <th>C5</th>\n",
       "      <th>C6</th>\n",
       "    </tr>\n",
       "  </thead>\n",
       "  <tbody>\n",
       "    <tr>\n",
       "      <th>0</th>\n",
       "      <td>CTL</td>\n",
       "      <td>78</td>\n",
       "      <td>54</td>\n",
       "      <td>342</td>\n",
       "      <td>34</td>\n",
       "      <td>3</td>\n",
       "    </tr>\n",
       "    <tr>\n",
       "      <th>1</th>\n",
       "      <td>anti-PD1</td>\n",
       "      <td>226</td>\n",
       "      <td>176</td>\n",
       "      <td>570</td>\n",
       "      <td>34</td>\n",
       "      <td>39</td>\n",
       "    </tr>\n",
       "    <tr>\n",
       "      <th>2</th>\n",
       "      <td>anti-Tigit</td>\n",
       "      <td>19</td>\n",
       "      <td>16</td>\n",
       "      <td>102</td>\n",
       "      <td>11</td>\n",
       "      <td>1</td>\n",
       "    </tr>\n",
       "  </tbody>\n",
       "</table>\n",
       "</div>"
      ],
      "text/plain": [
       "       Sample   C1   C2   C3  C5  C6\n",
       "0         CTL   78   54  342  34   3\n",
       "1    anti-PD1  226  176  570  34  39\n",
       "2  anti-Tigit   19   16  102  11   1"
      ]
     },
     "execution_count": 134,
     "metadata": {},
     "output_type": "execute_result"
    }
   ],
   "source": [
    "cell_counts_FMC = pd.read_excel('cellcounts.xlsx', sheet_name='FMC')\n",
    "cell_counts_FMC"
   ]
  },
  {
   "cell_type": "code",
   "execution_count": 135,
   "id": "9e52ab77",
   "metadata": {},
   "outputs": [
    {
     "data": {
      "text/plain": [
       "AnnData object with n_obs × n_vars = 3 × 5\n",
       "    obs: 'Sample'"
      ]
     },
     "execution_count": 135,
     "metadata": {},
     "output_type": "execute_result"
    }
   ],
   "source": [
    "data_FMC = dat.from_pandas(cell_counts_FMC, covariate_columns=[\"Sample\"])\n",
    "data_FMC"
   ]
  },
  {
   "cell_type": "code",
   "execution_count": 136,
   "id": "2c544fe1",
   "metadata": {},
   "outputs": [
    {
     "name": "stdout",
     "output_type": "stream",
     "text": [
      "Automatic reference selection! Reference cell type set to C5\n"
     ]
    }
   ],
   "source": [
    "model_FMC = mod.CompositionalAnalysis(data_FMC, formula=\"Sample\", reference_cell_type=\"automatic\")"
   ]
  },
  {
   "cell_type": "code",
   "execution_count": 137,
   "id": "13255039",
   "metadata": {},
   "outputs": [
    {
     "name": "stderr",
     "output_type": "stream",
     "text": [
      "100%|██████████| 20000/20000 [00:41<00:00, 477.32it/s]\n"
     ]
    },
    {
     "name": "stdout",
     "output_type": "stream",
     "text": [
      "MCMC sampling finished. (56.270 sec)\n",
      "Acceptance rate: 52.7%\n"
     ]
    }
   ],
   "source": [
    "sim_results_FMC = model_FMC.sample_hmc()"
   ]
  },
  {
   "cell_type": "code",
   "execution_count": 138,
   "id": "52d2e786",
   "metadata": {},
   "outputs": [
    {
     "name": "stdout",
     "output_type": "stream",
     "text": [
      "Compositional Analysis summary:\n",
      "\n",
      "Data: 3 samples, 5 cell types\n",
      "Reference index: 3\n",
      "Formula: Sample\n",
      "\n",
      "Intercepts:\n",
      "           Final Parameter  Expected Sample\n",
      "Cell Type                                  \n",
      "C1                   2.673        91.174600\n",
      "C2                   2.406        69.809936\n",
      "C3                   4.069       368.255265\n",
      "C5                   1.589        30.838884\n",
      "C6                   0.271         8.254647\n",
      "\n",
      "\n",
      "Effects:\n",
      "                                Final Parameter  Expected Sample  \\\n",
      "Covariate            Cell Type                                     \n",
      "Sample[T.anti-PD1]   C1                     0.0        91.174600   \n",
      "                     C2                     0.0        69.809936   \n",
      "                     C3                     0.0       368.255265   \n",
      "                     C5                     0.0        30.838884   \n",
      "                     C6                     0.0         8.254647   \n",
      "Sample[T.anti-Tigit] C1                     0.0        91.174600   \n",
      "                     C2                     0.0        69.809936   \n",
      "                     C3                     0.0       368.255265   \n",
      "                     C5                     0.0        30.838884   \n",
      "                     C6                     0.0         8.254647   \n",
      "\n",
      "                                log2-fold change  \n",
      "Covariate            Cell Type                    \n",
      "Sample[T.anti-PD1]   C1                      0.0  \n",
      "                     C2                      0.0  \n",
      "                     C3                      0.0  \n",
      "                     C5                      0.0  \n",
      "                     C6                      0.0  \n",
      "Sample[T.anti-Tigit] C1                      0.0  \n",
      "                     C2                      0.0  \n",
      "                     C3                      0.0  \n",
      "                     C5                      0.0  \n",
      "                     C6                      0.0  \n"
     ]
    }
   ],
   "source": [
    "sim_results_FMC.set_fdr(est_fdr=0.4)\n",
    "sim_results_FMC.summary()"
   ]
  },
  {
   "cell_type": "code",
   "execution_count": 139,
   "id": "06d4f697",
   "metadata": {},
   "outputs": [
    {
     "name": "stdout",
     "output_type": "stream",
     "text": [
      "Covariate             Cell Type\n",
      "Sample[T.anti-PD1]    C1           False\n",
      "                      C2           False\n",
      "                      C3           False\n",
      "                      C5           False\n",
      "                      C6           False\n",
      "Sample[T.anti-Tigit]  C1           False\n",
      "                      C2           False\n",
      "                      C3           False\n",
      "                      C5           False\n",
      "                      C6           False\n",
      "Name: Final Parameter, dtype: bool\n"
     ]
    }
   ],
   "source": [
    "print(sim_results_FMC.credible_effects())"
   ]
  },
  {
   "cell_type": "markdown",
   "id": "94a8f57c",
   "metadata": {},
   "source": [
    "## LCMV treatment"
   ]
  },
  {
   "cell_type": "code",
   "execution_count": 141,
   "id": "4515768d",
   "metadata": {},
   "outputs": [
    {
     "data": {
      "text/html": [
       "<div>\n",
       "<style scoped>\n",
       "    .dataframe tbody tr th:only-of-type {\n",
       "        vertical-align: middle;\n",
       "    }\n",
       "\n",
       "    .dataframe tbody tr th {\n",
       "        vertical-align: top;\n",
       "    }\n",
       "\n",
       "    .dataframe thead th {\n",
       "        text-align: right;\n",
       "    }\n",
       "</style>\n",
       "<table border=\"1\" class=\"dataframe\">\n",
       "  <thead>\n",
       "    <tr style=\"text-align: right;\">\n",
       "      <th></th>\n",
       "      <th>Sample</th>\n",
       "      <th>C1</th>\n",
       "      <th>C2</th>\n",
       "      <th>C3</th>\n",
       "      <th>C4</th>\n",
       "      <th>C5</th>\n",
       "      <th>C6</th>\n",
       "    </tr>\n",
       "  </thead>\n",
       "  <tbody>\n",
       "    <tr>\n",
       "      <th>0</th>\n",
       "      <td>CTL</td>\n",
       "      <td>700</td>\n",
       "      <td>1269</td>\n",
       "      <td>550</td>\n",
       "      <td>333</td>\n",
       "      <td>212</td>\n",
       "      <td>204</td>\n",
       "    </tr>\n",
       "    <tr>\n",
       "      <th>1</th>\n",
       "      <td>anti-PD1</td>\n",
       "      <td>273</td>\n",
       "      <td>250</td>\n",
       "      <td>36</td>\n",
       "      <td>101</td>\n",
       "      <td>23</td>\n",
       "      <td>7</td>\n",
       "    </tr>\n",
       "  </tbody>\n",
       "</table>\n",
       "</div>"
      ],
      "text/plain": [
       "     Sample   C1    C2   C3   C4   C5   C6\n",
       "0       CTL  700  1269  550  333  212  204\n",
       "1  anti-PD1  273   250   36  101   23    7"
      ]
     },
     "execution_count": 141,
     "metadata": {},
     "output_type": "execute_result"
    }
   ],
   "source": [
    "cell_counts_LCMV = pd.read_excel('cellcounts.xlsx', sheet_name='LCMV')\n",
    "cell_counts_LCMV"
   ]
  },
  {
   "cell_type": "code",
   "execution_count": 143,
   "id": "00439213",
   "metadata": {},
   "outputs": [
    {
     "data": {
      "text/plain": [
       "AnnData object with n_obs × n_vars = 2 × 6\n",
       "    obs: 'Sample'"
      ]
     },
     "execution_count": 143,
     "metadata": {},
     "output_type": "execute_result"
    }
   ],
   "source": [
    "data_LCMV = dat.from_pandas(cell_counts_LCMV, covariate_columns=[\"Sample\"])\n",
    "data_LCMV"
   ]
  },
  {
   "cell_type": "code",
   "execution_count": 172,
   "id": "cbd10ae4",
   "metadata": {},
   "outputs": [
    {
     "name": "stdout",
     "output_type": "stream",
     "text": [
      "Automatic reference selection! Reference cell type set to C2\n"
     ]
    }
   ],
   "source": [
    "model_LCMV = mod.CompositionalAnalysis(data_LCMV, formula=\"Sample\", reference_cell_type=\"automatic\")"
   ]
  },
  {
   "cell_type": "code",
   "execution_count": 146,
   "id": "2a0b8978",
   "metadata": {},
   "outputs": [
    {
     "name": "stderr",
     "output_type": "stream",
     "text": [
      "100%|██████████| 20000/20000 [00:38<00:00, 513.77it/s]\n"
     ]
    },
    {
     "name": "stdout",
     "output_type": "stream",
     "text": [
      "MCMC sampling finished. (51.330 sec)\n",
      "Acceptance rate: 53.6%\n"
     ]
    }
   ],
   "source": [
    "sim_results_LCMV = model_LCMV.sample_hmc()"
   ]
  },
  {
   "cell_type": "code",
   "execution_count": 154,
   "id": "ef4295a1",
   "metadata": {},
   "outputs": [
    {
     "name": "stdout",
     "output_type": "stream",
     "text": [
      "Compositional Analysis summary:\n",
      "\n",
      "Data: 2 samples, 6 cell types\n",
      "Reference index: 1\n",
      "Formula: Sample\n",
      "\n",
      "Intercepts:\n",
      "           Final Parameter  Expected Sample\n",
      "Cell Type                                  \n",
      "C1                   2.221       529.289175\n",
      "C2                   2.618       787.241393\n",
      "C3                   1.410       235.223218\n",
      "C4                   1.437       241.660761\n",
      "C5                   0.647       109.676478\n",
      "C6                   0.279        75.908975\n",
      "\n",
      "\n",
      "Effects:\n",
      "                              Final Parameter  Expected Sample  \\\n",
      "Covariate          Cell Type                                     \n",
      "Sample[T.anti-PD1] C1                0.466403       728.099388   \n",
      "                   C2                0.000000       679.280808   \n",
      "                   C3                0.000000       202.965214   \n",
      "                   C4                0.000000       208.519926   \n",
      "                   C5                0.000000        94.635683   \n",
      "                   C6                0.000000        65.498982   \n",
      "\n",
      "                              log2-fold change  \n",
      "Covariate          Cell Type                    \n",
      "Sample[T.anti-PD1] C1                 0.460079  \n",
      "                   C2                -0.212798  \n",
      "                   C3                -0.212798  \n",
      "                   C4                -0.212798  \n",
      "                   C5                -0.212798  \n",
      "                   C6                -0.212798  \n"
     ]
    }
   ],
   "source": [
    "sim_results_LCMV.set_fdr(est_fdr=0.4)\n",
    "sim_results_LCMV.summary()"
   ]
  },
  {
   "cell_type": "code",
   "execution_count": 155,
   "id": "8dd9b3e9",
   "metadata": {},
   "outputs": [
    {
     "name": "stdout",
     "output_type": "stream",
     "text": [
      "Covariate           Cell Type\n",
      "Sample[T.anti-PD1]  C1            True\n",
      "                    C2           False\n",
      "                    C3           False\n",
      "                    C4           False\n",
      "                    C5           False\n",
      "                    C6           False\n",
      "Name: Final Parameter, dtype: bool\n"
     ]
    }
   ],
   "source": [
    "print(sim_results_LCMV.credible_effects())"
   ]
  },
  {
   "cell_type": "markdown",
   "id": "a64e218b",
   "metadata": {},
   "source": [
    "## LCMV acute chronic"
   ]
  },
  {
   "cell_type": "code",
   "execution_count": 150,
   "id": "251e9c43",
   "metadata": {},
   "outputs": [
    {
     "data": {
      "text/html": [
       "<div>\n",
       "<style scoped>\n",
       "    .dataframe tbody tr th:only-of-type {\n",
       "        vertical-align: middle;\n",
       "    }\n",
       "\n",
       "    .dataframe tbody tr th {\n",
       "        vertical-align: top;\n",
       "    }\n",
       "\n",
       "    .dataframe thead th {\n",
       "        text-align: right;\n",
       "    }\n",
       "</style>\n",
       "<table border=\"1\" class=\"dataframe\">\n",
       "  <thead>\n",
       "    <tr style=\"text-align: right;\">\n",
       "      <th></th>\n",
       "      <th>Sample</th>\n",
       "      <th>C1</th>\n",
       "      <th>C2</th>\n",
       "      <th>C3</th>\n",
       "      <th>C4</th>\n",
       "      <th>C5</th>\n",
       "      <th>C6</th>\n",
       "    </tr>\n",
       "  </thead>\n",
       "  <tbody>\n",
       "    <tr>\n",
       "      <th>0</th>\n",
       "      <td>Acute</td>\n",
       "      <td>109</td>\n",
       "      <td>725</td>\n",
       "      <td>88</td>\n",
       "      <td>7</td>\n",
       "      <td>70</td>\n",
       "      <td>166</td>\n",
       "    </tr>\n",
       "    <tr>\n",
       "      <th>1</th>\n",
       "      <td>Chronic</td>\n",
       "      <td>113</td>\n",
       "      <td>501</td>\n",
       "      <td>232</td>\n",
       "      <td>35</td>\n",
       "      <td>25</td>\n",
       "      <td>197</td>\n",
       "    </tr>\n",
       "  </tbody>\n",
       "</table>\n",
       "</div>"
      ],
      "text/plain": [
       "    Sample   C1   C2   C3  C4  C5   C6\n",
       "0    Acute  109  725   88   7  70  166\n",
       "1  Chronic  113  501  232  35  25  197"
      ]
     },
     "execution_count": 150,
     "metadata": {},
     "output_type": "execute_result"
    }
   ],
   "source": [
    "cell_counts = pd.read_excel('cellcounts.xlsx', sheet_name='LCMV_ac')\n",
    "cell_counts = cell_counts.iloc[:2].copy()\n",
    "cell_counts[cell_counts.select_dtypes(include='number').columns] = cell_counts.select_dtypes(include='number').astype(int)\n",
    "cell_counts"
   ]
  },
  {
   "cell_type": "code",
   "execution_count": 151,
   "id": "36e0e64b",
   "metadata": {},
   "outputs": [
    {
     "data": {
      "text/plain": [
       "AnnData object with n_obs × n_vars = 2 × 6\n",
       "    obs: 'Sample'"
      ]
     },
     "execution_count": 151,
     "metadata": {},
     "output_type": "execute_result"
    }
   ],
   "source": [
    "data = dat.from_pandas(cell_counts, covariate_columns=[\"Sample\"])\n",
    "data"
   ]
  },
  {
   "cell_type": "code",
   "execution_count": 173,
   "id": "b1230d52",
   "metadata": {},
   "outputs": [
    {
     "name": "stdout",
     "output_type": "stream",
     "text": [
      "Automatic reference selection! Reference cell type set to C1\n"
     ]
    }
   ],
   "source": [
    "model_LCMV_ac = mod.CompositionalAnalysis(data, formula=\"Sample\", reference_cell_type=\"automatic\")"
   ]
  },
  {
   "cell_type": "code",
   "execution_count": 153,
   "id": "4796e86e",
   "metadata": {},
   "outputs": [
    {
     "name": "stderr",
     "output_type": "stream",
     "text": [
      "100%|██████████| 20000/20000 [00:39<00:00, 502.68it/s]\n"
     ]
    },
    {
     "name": "stdout",
     "output_type": "stream",
     "text": [
      "MCMC sampling finished. (51.670 sec)\n",
      "Acceptance rate: 49.3%\n"
     ]
    }
   ],
   "source": [
    "sim_results_LCMV_ac = model_LCMV_ac.sample_hmc()"
   ]
  },
  {
   "cell_type": "code",
   "execution_count": 174,
   "id": "65797fd6",
   "metadata": {},
   "outputs": [
    {
     "name": "stdout",
     "output_type": "stream",
     "text": [
      "Compositional Analysis summary:\n",
      "\n",
      "Data: 2 samples, 6 cell types\n",
      "Reference index: 0\n",
      "Formula: Sample\n",
      "\n",
      "Intercepts:\n",
      "           Final Parameter  Expected Sample\n",
      "Cell Type                                  \n",
      "C1                   1.767       112.096698\n",
      "C2                   3.542       661.402030\n",
      "C3                   1.815       117.608566\n",
      "C4                  -0.036        18.473954\n",
      "C5                   0.960        50.016946\n",
      "C6                   2.209       174.401806\n",
      "\n",
      "\n",
      "Effects:\n",
      "                             Final Parameter  Expected Sample  \\\n",
      "Covariate         Cell Type                                     \n",
      "Sample[T.Chronic] C1                0.000000       121.781018   \n",
      "                  C2               -0.340057       511.408015   \n",
      "                  C3                0.574927       227.045745   \n",
      "                  C4                0.400584        29.958359   \n",
      "                  C5                0.000000        54.338038   \n",
      "                  C6                0.000000       189.468824   \n",
      "\n",
      "                             log2-fold change  \n",
      "Covariate         Cell Type                    \n",
      "Sample[T.Chronic] C1                 0.119545  \n",
      "                  C2                -0.371053  \n",
      "                  C3                 0.948990  \n",
      "                  C4                 0.697466  \n",
      "                  C5                 0.119545  \n",
      "                  C6                 0.119545  \n"
     ]
    }
   ],
   "source": [
    "sim_results_LCMV_ac.set_fdr(est_fdr=0.4)\n",
    "sim_results_LCMV_ac.summary()"
   ]
  },
  {
   "cell_type": "code",
   "execution_count": 175,
   "id": "69fdb374",
   "metadata": {},
   "outputs": [
    {
     "name": "stdout",
     "output_type": "stream",
     "text": [
      "Covariate          Cell Type\n",
      "Sample[T.Chronic]  C1           False\n",
      "                   C2            True\n",
      "                   C3            True\n",
      "                   C4            True\n",
      "                   C5           False\n",
      "                   C6           False\n",
      "Name: Final Parameter, dtype: bool\n"
     ]
    }
   ],
   "source": [
    "print(sim_results_LCMV_ac.credible_effects())"
   ]
  }
 ],
 "metadata": {
  "kernelspec": {
   "display_name": "myenv",
   "language": "python",
   "name": "python3"
  },
  "language_info": {
   "codemirror_mode": {
    "name": "ipython",
    "version": 3
   },
   "file_extension": ".py",
   "mimetype": "text/x-python",
   "name": "python",
   "nbconvert_exporter": "python",
   "pygments_lexer": "ipython3",
   "version": "3.12.2"
  }
 },
 "nbformat": 4,
 "nbformat_minor": 5
}
